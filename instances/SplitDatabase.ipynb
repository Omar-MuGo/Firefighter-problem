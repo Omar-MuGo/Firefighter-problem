{
 "cells": [
  {
   "cell_type": "code",
   "execution_count": 1,
   "metadata": {},
   "outputs": [],
   "source": [
    "import os\n",
    "\n",
    "pool_path = os.path.join(os.getcwd(),\"pool\")"
   ]
  },
  {
   "cell_type": "code",
   "execution_count": 2,
   "metadata": {},
   "outputs": [
    {
     "data": {
      "text/plain": [
       "260"
      ]
     },
     "execution_count": 2,
     "metadata": {},
     "output_type": "execute_result"
    }
   ],
   "source": [
    "for dirpath, dirnames, filenames in os.walk( pool_path ):\n",
    "    # We need only the filenames\n",
    "    break\n",
    "len(filenames)"
   ]
  },
  {
   "cell_type": "markdown",
   "metadata": {},
   "source": [
    "# Instance Classes"
   ]
  },
  {
   "cell_type": "code",
   "execution_count": 3,
   "metadata": {},
   "outputs": [
    {
     "data": {
      "text/plain": [
       "(Counter({'1000_ep0.0075_': 10,\n",
       "          '1000_ep0.0125_': 10,\n",
       "          '1000_ep0.01_': 10,\n",
       "          '1000_r0.058_': 10,\n",
       "          '1000_r0.05_': 10,\n",
       "          '1000_r0.065_': 10,\n",
       "          '100_ep0.05_': 10,\n",
       "          '100_ep0.075_': 10,\n",
       "          '100_ep0.125_': 10,\n",
       "          '100_ep0.1_': 10,\n",
       "          '100_r0.169_': 10,\n",
       "          '100_r0.195_': 10,\n",
       "          '100_r0.219_': 10,\n",
       "          '500_ep0.015_': 10,\n",
       "          '500_ep0.025_': 10,\n",
       "          '500_ep0.02_': 10,\n",
       "          '500_r0.071_': 10,\n",
       "          '500_r0.083_': 10,\n",
       "          '500_r0.093_': 10,\n",
       "          '50_ep0.15_': 10,\n",
       "          '50_ep0.1_': 10,\n",
       "          '50_ep0.25_': 10,\n",
       "          '50_ep0.2_': 10,\n",
       "          '50_r0.259_': 10,\n",
       "          '50_r0.299_': 10,\n",
       "          '50_r0.334_': 10}),\n",
       " 26)"
      ]
     },
     "execution_count": 3,
     "metadata": {},
     "output_type": "execute_result"
    }
   ],
   "source": [
    "import collections\n",
    "\n",
    "instance_classes = collections.Counter(\n",
    "    [\n",
    "        \"_\".join(filename.split(\"_\")[:2])+\"_\"\n",
    "        for filename in filenames\n",
    "    ]\n",
    ")\n",
    "instance_classes, len(instance_classes)"
   ]
  },
  {
   "cell_type": "markdown",
   "metadata": {},
   "source": [
    "# Group files by class"
   ]
  },
  {
   "cell_type": "code",
   "execution_count": 4,
   "metadata": {},
   "outputs": [
    {
     "name": "stdout",
     "output_type": "stream",
     "text": [
      " 1000_ep0.0075_ : 10\n",
      " 1000_ep0.0125_ : 10\n",
      " 1000_ep0.01_   : 10\n",
      " 1000_r0.058_   : 10\n",
      " 1000_r0.05_    : 10\n",
      " 1000_r0.065_   : 10\n",
      " 100_ep0.05_    : 10\n",
      " 100_ep0.075_   : 10\n",
      " 100_ep0.125_   : 10\n",
      " 100_ep0.1_     : 10\n",
      " 100_r0.169_    : 10\n",
      " 100_r0.195_    : 10\n",
      " 100_r0.219_    : 10\n",
      " 500_ep0.015_   : 10\n",
      " 500_ep0.025_   : 10\n",
      " 500_ep0.02_    : 10\n",
      " 500_r0.071_    : 10\n",
      " 500_r0.083_    : 10\n",
      " 500_r0.093_    : 10\n",
      " 50_ep0.15_     : 10\n",
      " 50_ep0.1_      : 10\n",
      " 50_ep0.25_     : 10\n",
      " 50_ep0.2_      : 10\n",
      " 50_r0.259_     : 10\n",
      " 50_r0.299_     : 10\n",
      " 50_r0.334_     : 10\n"
     ]
    },
    {
     "data": {
      "text/plain": [
       "26"
      ]
     },
     "execution_count": 4,
     "metadata": {},
     "output_type": "execute_result"
    }
   ],
   "source": [
    "group = dict()\n",
    "for clazz in sorted(instance_classes):\n",
    "    group[clazz] = [name for name in filenames if clazz in name]\n",
    "    print(\" {:<15}: {}\".format(clazz,len(group[clazz])))\n",
    "len(group)"
   ]
  },
  {
   "cell_type": "markdown",
   "metadata": {},
   "source": [
    "# Split in training and testing sets\n",
    "\n",
    "Different `seed` values will generate different training and testing folders."
   ]
  },
  {
   "cell_type": "code",
   "execution_count": 5,
   "metadata": {},
   "outputs": [],
   "source": [
    "training_portion = 0.7\n",
    "seed = 1"
   ]
  },
  {
   "cell_type": "code",
   "execution_count": 6,
   "metadata": {},
   "outputs": [
    {
     "data": {
      "text/plain": [
       "(0.7, set(), set())"
      ]
     },
     "execution_count": 6,
     "metadata": {},
     "output_type": "execute_result"
    }
   ],
   "source": [
    "import numpy\n",
    "numpy.random.seed(seed)\n",
    "\n",
    "training = list()\n",
    "testing = list()\n",
    "\n",
    "for clazz in sorted(group):\n",
    "    random_for_training = numpy.random.choice(\n",
    "        group[clazz],\n",
    "        size=int(training_portion*len(group[clazz])),\n",
    "        replace=False\n",
    "    )\n",
    "    training.extend( random_for_training )\n",
    "    testing.extend( set(group[clazz]) - set(random_for_training)  )\n",
    "\n",
    "len(training)/len((training+testing)),set(training)&set(testing),set(testing)&set(training)"
   ]
  },
  {
   "cell_type": "markdown",
   "metadata": {},
   "source": [
    "# Create folders"
   ]
  },
  {
   "cell_type": "code",
   "execution_count": 7,
   "metadata": {},
   "outputs": [],
   "source": [
    "import shutil\n",
    "\n",
    "training_folder_name = \"{:02}_training\".format(seed)\n",
    "testing_folder_name = \"{:02}_testing\".format(seed)"
   ]
  },
  {
   "cell_type": "code",
   "execution_count": 8,
   "metadata": {},
   "outputs": [
    {
     "name": "stdout",
     "output_type": "stream",
     "text": [
      "01_training created.\n",
      "01_testing created.\n"
     ]
    }
   ],
   "source": [
    "if os.path.exists(training_folder_name) == True:\n",
    "    print(training_folder_name, \"already exists.\")\n",
    "else:\n",
    "    os.mkdir(training_folder_name)\n",
    "    training_path = os.path.join( os.getcwd(), training_folder_name )\n",
    "    for file in training:\n",
    "        shutil.copy(\n",
    "            os.path.join(pool_path,file),\n",
    "            os.path.join(training_path,file),\n",
    "        )\n",
    "    print(training_folder_name, \"created.\")\n",
    "\n",
    "if os.path.exists(testing_folder_name) == True:\n",
    "    print(testing_folder_name, \"already exists.\")\n",
    "else:\n",
    "    os.mkdir(testing_folder_name)\n",
    "    testing_path = os.path.join( os.getcwd(), testing_folder_name )\n",
    "    for file in testing:\n",
    "        shutil.copy(\n",
    "            os.path.join(pool_path,file),\n",
    "            os.path.join(testing_path,file),\n",
    "        )\n",
    "    print(testing_folder_name, \"created.\")"
   ]
  },
  {
   "cell_type": "code",
   "execution_count": null,
   "metadata": {},
   "outputs": [],
   "source": []
  }
 ],
 "metadata": {
  "interpreter": {
   "hash": "ad2bdc8ecc057115af97d19610ffacc2b4e99fae6737bb82f5d7fb13d2f2c186"
  },
  "kernelspec": {
   "display_name": "Python 3.8.12 ('base')",
   "language": "python",
   "name": "python3"
  },
  "language_info": {
   "codemirror_mode": {
    "name": "ipython",
    "version": 3
   },
   "file_extension": ".py",
   "mimetype": "text/x-python",
   "name": "python",
   "nbconvert_exporter": "python",
   "pygments_lexer": "ipython3",
   "version": "3.8.12"
  },
  "orig_nbformat": 4
 },
 "nbformat": 4,
 "nbformat_minor": 2
}
